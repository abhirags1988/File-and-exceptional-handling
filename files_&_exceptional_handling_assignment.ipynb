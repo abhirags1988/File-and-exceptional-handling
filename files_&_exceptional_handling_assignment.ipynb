{
  "nbformat": 4,
  "nbformat_minor": 0,
  "metadata": {
    "colab": {
      "provenance": []
    },
    "kernelspec": {
      "name": "python3",
      "display_name": "Python 3"
    },
    "language_info": {
      "name": "python"
    }
  },
  "cells": [
    {
      "cell_type": "markdown",
      "source": [
        "#Files, exceptional handling, logging and memory management Question\n"
      ],
      "metadata": {
        "id": "RwoTuLFdjHpH"
      }
    },
    {
      "cell_type": "markdown",
      "source": [
        "###1. What is the difference between interpreted and compiled languages?"
      ],
      "metadata": {
        "id": "KRqzhZvQjHk8"
      }
    },
    {
      "cell_type": "markdown",
      "source": [
        "Interpreted languages:\n",
        "\n",
        "In interpreted languages, the source code is executed line by line by an interpreter at runtime.\n",
        "\n",
        "No separate executable is generated.\n",
        "\n",
        "\n",
        "Examples:\n",
        "\n",
        "Python, JavaScript, Ruby, PHP\n",
        "\n",
        "\n",
        "\n",
        "* Advantages:\n",
        "\n",
        "Easy to run and test immediately (no separate compile step).\n",
        "\n",
        "Easier to test and debug.\n",
        "\n",
        "More portable (same source code can run on any system with the interpreter).\n",
        "\n",
        "\n",
        "* Disadvantages:\n",
        "\n",
        "Usually slower, because translation happens at runtime, line by line.\n",
        "\n",
        "\n",
        "Some errors might only appear when that line of code is run.\n",
        "\n",
        "Compiled languages:\n",
        "\n",
        "In compiled languages, the source code we write is translated (compiled) into machine code (binary) before it is run.This translation is done by a compiler.The output is typically an executable file.\n",
        "\n",
        "Examples:\n",
        "\n",
        "C, C++, Rust, Go\n",
        "\n",
        "\n",
        "* Advantages:\n",
        "\n",
        "Usually faster execution, because code is already in machine language.\n",
        "\n",
        "Some errors can be caught during compilation.\n",
        "\n",
        "* Disadvantages:\n",
        "\n",
        " Less flexible for quick testing (need to compile again after each change).\n",
        "\n",
        "Platform-dependent binaries (need to compile separately for Windows, Linux, etc).\n",
        "\n",
        "\n",
        "\n",
        "\n"
      ],
      "metadata": {
        "id": "edDUtdsWjHhi"
      }
    },
    {
      "cell_type": "markdown",
      "source": [
        "###2. What is exception handling in Python?"
      ],
      "metadata": {
        "id": "8XBM1J4CjHe8"
      }
    },
    {
      "cell_type": "markdown",
      "source": [
        "-> Exceptions are errors that happen while our program is running (runtime errors).\n",
        "\n",
        "* example:\n",
        "\n",
        "Dividing by zero (10 / 0)\n",
        "\n",
        "Trying to open a file that doesn’t exist\n",
        "\n",
        "Using a wrong index in a list (my_list[100])\n",
        "\n",
        "\n",
        "If these errors are not handled, our program crashes.\n",
        "\n",
        "\n",
        " Exception handling helps us to deal with these errors gracefully, so our program can continue or at least fail in a controlled way.\n"
      ],
      "metadata": {
        "id": "hD16SCVWjHYd"
      }
    },
    {
      "cell_type": "markdown",
      "source": [
        "###3.What is the purpose of the finally block in exception handling?"
      ],
      "metadata": {
        "id": "jBrQQD9LjHVD"
      }
    },
    {
      "cell_type": "markdown",
      "source": [
        "-> The finally block is used to write code that must run no matter what happens in the try-except flow, often for cleanup or releasing resources.\n",
        "\n",
        "\n",
        "The main purpose of the finally block is to ensure that certain cleanup actions are taken, such as:\n",
        "\n",
        "I. Closing files\n",
        "\n",
        "II. Releasing resources (like network or database connections)\n",
        "\n",
        "III. Cleaning up temporary data\n",
        "\n",
        "IV. Printing final messages or logs\n",
        "\n",
        "It always executes, even if, an exception was raised and caught, an exception was raised and not caught, or no exception happened at all.\n"
      ],
      "metadata": {
        "id": "tugaI1KXjHS8"
      }
    },
    {
      "cell_type": "markdown",
      "source": [
        "###4. What is logging in Python?"
      ],
      "metadata": {
        "id": "YwBNUmqrjHQM"
      }
    },
    {
      "cell_type": "markdown",
      "source": [
        "-> logging means recording events or messages that happen when our program runs.It is a way to record messages about our program’s execution. It helps in debugging, monitoring, and keeping records, and it is more flexible and powerful than using print() statements. It is a crucial practice for debugging, monitoring, and understanding the behavior of software applications. Python provides a built-in logging module in its standard library to facilitate this.\n",
        "\n",
        "\n"
      ],
      "metadata": {
        "id": "ADEyeycWjHNi"
      }
    },
    {
      "cell_type": "markdown",
      "source": [
        "###5.What is the significance of the __del__ method in Python?"
      ],
      "metadata": {
        "id": "-NKJInW-jHLI"
      }
    },
    {
      "cell_type": "markdown",
      "source": [
        "-> __del__ is a special method (also called a \"magic method\" or \"dunder method\" because of the double underscores) in Python classes. It is also called a destructor.\n",
        "\n",
        "* Significance of __del__ method:\n",
        "\n",
        " The _del_ method lets us define cleanup actions, such as:\n",
        "\n",
        "I. Closing files or network connections\n",
        "\n",
        "II. Releasing external resources\n",
        "\n",
        "III. Logging that an object is being deleted\n",
        "\n",
        "\n",
        "But in practice, _del_ is rarely used, because Python’s garbage collection is automatic and it’s usually better to use context managers (with).\n"
      ],
      "metadata": {
        "id": "A23NDvnzjHIZ"
      }
    },
    {
      "cell_type": "markdown",
      "source": [
        "###6.What is the difference between import and from ... import in Python?"
      ],
      "metadata": {
        "id": "xLN38L-UjHAj"
      }
    },
    {
      "cell_type": "markdown",
      "source": [
        "-> Import:\n",
        "\n",
        "In Python, import is a keyword that lets us bring in code from other modules or packages into our current program, This imports the whole module, and we access its functions or variables using dot notation. so we can reuse functions, classes, or variables without writing them again. It’s Python’s way of organizing and reusing code.\n",
        "\n",
        " So whenever we write:\n",
        "\n",
        "import math\n",
        "\n",
        "so Python will \"Load the module named math and we can use its functions like math.sqrt().\"\n",
        "\n",
        " * from ... import ... statement:\n",
        "\n",
        "This imports specific names (functions, classes, variables) directly into our current namespace, so we can use them without the module prefix.\n",
        "\n",
        "Example\n",
        "\n",
        "from math import sqrt\n",
        "\n",
        "print(sqrt(16))  # use directly, no 'math.'\n",
        "\n",
        "Here:\n",
        "\n",
        "Only sqrt is imported from math so we can call sqrt(...) directly.\n",
        "\n",
        "\n"
      ],
      "metadata": {
        "id": "wUQVtmttkrlf"
      }
    },
    {
      "cell_type": "markdown",
      "source": [
        "###7. How can you handle multiple exceptions in Python?"
      ],
      "metadata": {
        "id": "E-Wl0PuFkuD7"
      }
    },
    {
      "cell_type": "markdown",
      "source": [
        "-> Multiple exception means handling multiple types of errors in Python using try and multiple except blocks.\n",
        "\n",
        "When we write a try block, multiple things can go wrong.\n",
        "\n",
        "we can handle different exceptions separately using multiple except blocks.\n",
        "\n",
        "* Handle multiple exceptions in Python by:\n",
        "\n",
        "Using multiple except blocks to handle different errors differently.\n",
        "\n",
        "Or using a tuple in a single except to handle several types together.\n",
        "\n",
        "\n"
      ],
      "metadata": {
        "id": "ikayxyRkkuAq"
      }
    },
    {
      "cell_type": "markdown",
      "source": [
        "###8. What is the purpose of the with statement when handling files in Python?"
      ],
      "metadata": {
        "id": "K8EQA641kt-J"
      }
    },
    {
      "cell_type": "markdown",
      "source": [
        "-> The with statement in Python is used for simplifying the management of resources, like:\n",
        "\n",
        " files, database connections, network sockets, etc.\n",
        "\n",
        "\n",
        ">  IT is used for opening files safely, so Python will automatically close the file when we are done, even if there is an error.\n",
        "It makes our code cleaner, shorter, and safer.\n",
        "\n",
        "\n",
        "\n",
        "* The with statement is used to wrap the execution of a block of code with methods defined by a context manager.\n",
        "When handling files, it is most commonly used to open and automatically close files safely.\n",
        "\n",
        "So when WE write:\n",
        "\n",
        "with open(\"data.txt\", \"r\") as f:\n",
        "    contents = f.read()\n",
        "\n",
        "Python does three things:\n",
        "\n",
        "I. Opens the file (open(\"data.txt\", \"r\")) and assigns it to f.\n",
        "\n",
        "II. Lets us work with the file inside the block (the indented part).\n",
        "\n",
        "III. Automatically closes the file when the block ends — even if an error happens.\n",
        "\n"
      ],
      "metadata": {
        "id": "iCAR6rUfkt7Z"
      }
    },
    {
      "cell_type": "markdown",
      "source": [
        "###9. What is the difference between multithreading and multiprocessing?"
      ],
      "metadata": {
        "id": "1smgu0Tdkt43"
      }
    },
    {
      "cell_type": "markdown",
      "source": [
        "->  Multi-threading means running multiple threads (smaller units of a process) inside the same process.\n",
        "\n",
        "All threads share the same memory space (variables, data structures).\n",
        "\n",
        "It is lightweight, and creating threads is faster than creating separate processes.\n",
        "\n",
        "\n",
        "* Multi-processing means running multiple processes, each with its own Python interpreter & memory space.\n",
        "\n",
        "They do not share memory, communicate via pipes or queues.\n",
        "\n",
        "Each process runs truly in parallel on multiple CPU cores.\n",
        "\n"
      ],
      "metadata": {
        "id": "LGhbF_p7kt2L"
      }
    },
    {
      "cell_type": "markdown",
      "source": [
        "###10. What are the advantages of using logging in a program?"
      ],
      "metadata": {
        "id": "IAD1OplNktzo"
      }
    },
    {
      "cell_type": "markdown",
      "source": [
        "-> Logging means recording events that happen when our program runs.\n",
        "\n",
        "\n",
        "Python provides a built-in module called logging to handle this easily.\n",
        "\n",
        "* Advantages of logging:\n",
        "\n",
        "I. Debugging help -\tWe can trace what our program did before an error.\n",
        "\n",
        "II. Monitors program health -\tSee warnings or errors without stopping the program.\n",
        "\n",
        "III. Keeps history\tLogs saved to files show what happened over time.\n",
        "\n",
        "IV. Levels of importance -Easily separate debug info vs serious errors.\n",
        "\n",
        "V. Professional & flexible\t- Better than print(); can log to files, servers, or emails.\n",
        "\n"
      ],
      "metadata": {
        "id": "NJt4yes9ktwp"
      }
    },
    {
      "cell_type": "markdown",
      "source": [
        "###11. What is memory management in Python?"
      ],
      "metadata": {
        "id": "-aXKA9P2ktuE"
      }
    },
    {
      "cell_type": "markdown",
      "source": [
        "-> Memory management is about how a programming language keeps track of memory —\n",
        "allocating (reserving) memory when we create objects,\n",
        "and freeing (releasing) memory when it is no longer needed.\n",
        "\n",
        "It ensures our program does not use more memory than necessary, and avoids memory leaks (when memory is never released).\n",
        "\n",
        "\n",
        "> In other words Python automatically allocates memory when we create objects and frees it when they are no longer used, using reference counting and garbage collection.\n",
        "This makes programming in Python easier and safer, without worrying about manual memory cleanup.\n",
        "\n"
      ],
      "metadata": {
        "id": "zCM8BKSAktrm"
      }
    },
    {
      "cell_type": "markdown",
      "source": [
        "###12.What are the basic steps involved in exception handling in Python?"
      ],
      "metadata": {
        "id": "pf8_vHsXkto0"
      }
    },
    {
      "cell_type": "markdown",
      "source": [
        "-> Basic steps in exception handling in Python:\n",
        "\n",
        "I. Use try block\n",
        "\n",
        "Place the code that might cause an error inside a try block.\n",
        "\n",
        "\n",
        "II. Use except block\n",
        "\n",
        "Handle the specific exception (error) that might occur.\n",
        "\n",
        "III Optionally use else block\n",
        "\n",
        "Runs if no exception happens.\n",
        "\n",
        "\n",
        "IV. Optionally use finally block\n",
        "\n",
        "Runs no matter what, to clean up (like closing files).\n"
      ],
      "metadata": {
        "id": "aQRp9Pn8ktLO"
      }
    },
    {
      "cell_type": "markdown",
      "source": [
        "###13. Why is memory management important in Python?"
      ],
      "metadata": {
        "id": "yILBVcSAktII"
      }
    },
    {
      "cell_type": "markdown",
      "source": [
        "-> Memory management is important in Python because it ensures our program uses memory efficiently, avoids wasting resources, and prevents crashes or slowdowns due to running out of memory. It keeps Python programs fast, stable, and efficient without manual memory handling.\n",
        "\n",
        "> It frees up unused memory automatically (via garbage collection), so our program doesn’t hog memory.\n",
        "\n",
        "It Keeps performance smooth by cleaning up unneeded objects.\n",
        "\n",
        "And prevents memory leaks, where memory keeps growing due to forgotten references.\n",
        "\n",
        "\n",
        "\n"
      ],
      "metadata": {
        "id": "-Rw4OQsKktFj"
      }
    },
    {
      "cell_type": "markdown",
      "source": [
        "###14. What is the role of try and except in exception handling?"
      ],
      "metadata": {
        "id": "0jEPkYS4ktDM"
      }
    },
    {
      "cell_type": "markdown",
      "source": [
        "-> try:\n",
        "\n",
        "Try\tRuns risky code that might throw an error or the try block is used where we write code that might cause an error (exception).\n",
        "\n",
        "Ex.\n",
        "\n",
        "try:\n",
        "    x = 5 / 0   # risky code\n",
        "\n",
        "\n",
        "* except:\n",
        "\n",
        "It catches and handles the error if it happens, so our program can continue.\n",
        "\n",
        "The except block is used where we handle the error if it happens.\n",
        "\n",
        "If an exception occurs in the try block, Python jumps to the except block.\n",
        "\n",
        "Ex.\n",
        "\n",
        "except ZeroDivisionError:\n",
        "\n",
        "    print(\"Cannot divide by zero.\")\n",
        "\n",
        "\n",
        "\n"
      ],
      "metadata": {
        "id": "4T4HR1yQktAp"
      }
    },
    {
      "cell_type": "markdown",
      "source": [
        "###15.How does Python's garbage collection system work?"
      ],
      "metadata": {
        "id": "eJ9KpCs5ks-Q"
      }
    },
    {
      "cell_type": "markdown",
      "source": [
        "-> Python’s garbage collection system automatically frees up memory by deleting objects that are no longer needed, so our program doesn’t waste memory.\n",
        "\n",
        "\n",
        "Python mainly uses two techniques:\n",
        "\n",
        "I.  Reference Counting\n",
        "\n",
        "Each object keeps track of how many references point to it.\n",
        "\n",
        "When the count drops to zero, Python immediately deletes it.\n",
        "\n",
        "\n",
        "II. Garbage Collector for cycles\n",
        "\n",
        "If objects refer to each other (like A → B → A), their count never goes to zero.\n",
        "\n",
        "Python’s garbage collector periodically looks for such circular references and deletes them.\n",
        "\n",
        "\n"
      ],
      "metadata": {
        "id": "v2yfhGb-ks7b"
      }
    },
    {
      "cell_type": "markdown",
      "source": [
        "###16.What is the purpose of the else block in exception handling?"
      ],
      "metadata": {
        "id": "owMARbWNks5B"
      }
    },
    {
      "cell_type": "markdown",
      "source": [
        "-> In Python, the else block runs if no exception occurs in the try block.\n",
        "\n",
        "So we use it to place code that should only run when everything goes fine, i.e. no exceptions were raised.\n",
        "\n",
        "* Ex.\n",
        "\n",
        "try:\n",
        "    x = int(input(\"Enter a number: \"))\n",
        "except ValueError:\n",
        "    print(\" Not a valid number!\")\n",
        "else:\n",
        "    print(f\"Great! You entered {x}.\")\n",
        "\n",
        "\n",
        "> If int(input(...)) fails, the except runs or if it succeeds, the else runs.\n",
        "\n",
        "\n",
        "\n"
      ],
      "metadata": {
        "id": "P_9oKDoxks2q"
      }
    },
    {
      "cell_type": "markdown",
      "source": [
        "###17.What are the common logging levels in Python?"
      ],
      "metadata": {
        "id": "ri6VjCW7ks0V"
      }
    },
    {
      "cell_type": "markdown",
      "source": [
        "-> Common logging levels in Python are:\n",
        "\n",
        "DEBUG: \tLowest level. Detailed information for diagnosing problems. Useful for developers.\n",
        "\n",
        "INFO: \tConfirms things are working as expected. General events (e.g. \"Service started\").\n",
        "\n",
        "WARNING:\tIndicates something unexpected happened, but program continues.\n",
        "\n",
        "ERROR:\tA serious problem. Program did not perform some function.\n",
        "\n",
        "CRITICAL:\tHighest level. A very serious error, might stop the program.\n",
        "\n"
      ],
      "metadata": {
        "id": "bT3qXj3Oksv_"
      }
    },
    {
      "cell_type": "markdown",
      "source": [
        "###18. What is the difference between os.fork() and multiprocessing in Python?"
      ],
      "metadata": {
        "id": "Dr4mx93YkstJ"
      }
    },
    {
      "cell_type": "markdown",
      "source": [
        "-> os.fork()\n",
        "\n",
        "os.fork() is a low-level system call (available on Unix/Linux, not on Windows) from Python’s os module.\n",
        "\n",
        "It directly creates a new child process, which is a copy of the current process.\n",
        "\n",
        "\n",
        "It is ery close to the operating system.\n",
        "\n",
        "It gives us full control, but we must handle IPC (inter-process communication) ourself (via pipes, signals, etc).\n",
        "\n",
        "Not portable (doesn’t work on Windows).\n",
        "\n",
        "\n",
        "* Multiprocessing module\n",
        "\n",
        "\n",
        "multiprocessing is a high-level Python module that provides a portable way to create new processes.\n",
        "\n",
        "\n",
        ">It spawns new Python processes automatically (on Windows, uses spawn; on Unix, can use fork or spawn behind the scenes).\n",
        "\n",
        "\n"
      ],
      "metadata": {
        "id": "r7MoZxybksqc"
      }
    },
    {
      "cell_type": "markdown",
      "source": [
        "###19. What is the importance of closing a file in Python?"
      ],
      "metadata": {
        "id": "NMFtwW0IksoA"
      }
    },
    {
      "cell_type": "markdown",
      "source": [
        "-> Always close our files to save changes, free resources, and keep our program safe and efficient.\n",
        "\n",
        "\n",
        " Closing a file in Python is important because it releases system resources (like file handles), so other programs or parts of our code can access the file.\n",
        "\n",
        "It ensures data is written properly from buffers to disk (especially in write mode).\n",
        "\n",
        "And prevents data corruption or memory leaks.\n",
        "\n",
        ">That’s why using with open(...) as f: is preferred — it closes files automatically."
      ],
      "metadata": {
        "id": "awtcnOnukslr"
      }
    },
    {
      "cell_type": "markdown",
      "source": [
        "###20. What is the difference between file.read() and file.readline() in Python?"
      ],
      "metadata": {
        "id": "6Ab4L20jksi-"
      }
    },
    {
      "cell_type": "markdown",
      "source": [
        "-> file.read():\n",
        "\n",
        "It reads the entire file content as a single string (or up to a number of bytes we specify).\n",
        "\n",
        "Ex.\n",
        "\n",
        "with open(\"data.txt\", \"r\") as f:\n",
        "\n",
        "    content = f.read()        # whole file as a single string\n",
        "\n",
        "\n",
        "* file.readline():\n",
        "\n",
        "It reads one line at a time from the file (including the newline \\n).\n",
        "\n",
        "Ex.\n",
        "\n",
        "with open(\"data.txt\", \"r\") as f:\n",
        "\n",
        "    line1 = f.readline()      # first line as a string\n",
        "    \n",
        "\n",
        "\n"
      ],
      "metadata": {
        "id": "tvtC2KebkrwJ"
      }
    },
    {
      "cell_type": "markdown",
      "source": [
        "###21. What is the logging module in Python used for?"
      ],
      "metadata": {
        "id": "XlTJJTx3jG9_"
      }
    },
    {
      "cell_type": "markdown",
      "source": [
        "-> The logging module in Python is a built-in library used to record (log) messages about what our program is doing.\n",
        "\n",
        "\n",
        "* Uses of the logging module:\n",
        "\n",
        "The logging module is used to log important events and errors, so we can debug, monitor, and maintain our Python programs effectively.\n",
        "\n",
        "It records messages about what our program is doing\n",
        "— such as information, warnings, errors, and critical problems.\n",
        "\n",
        "\n",
        "\n",
        "\n",
        "\n",
        "\n"
      ],
      "metadata": {
        "id": "R5-9PRjCjG7N"
      }
    },
    {
      "cell_type": "markdown",
      "source": [
        "###22. What is the os module in Python used for in file handling?"
      ],
      "metadata": {
        "id": "mfN2KLXrjE1O"
      }
    },
    {
      "cell_type": "markdown",
      "source": [
        "-> The os module in Python provides functions to interact with the operating system, including many tools for file handling.\n",
        "\n",
        "\n",
        "* For file handling, os is used to:\n",
        "\n",
        "I. Delete, rename, create files and directories\n",
        "(os.remove(), os.rename(), os.mkdir(), etc.)\n",
        "\n",
        "II. Navigate directories\n",
        "(os.chdir(), os.getcwd())\n",
        "\n",
        "III. Check file properties\n",
        "(os.path.exists(), os.path.isfile(), os.path.isdir())\n",
        "\n"
      ],
      "metadata": {
        "id": "a5J5MFIHnTaq"
      }
    },
    {
      "cell_type": "markdown",
      "source": [
        "###23. What are the challenges associated with memory management in Python?"
      ],
      "metadata": {
        "id": "pIF7vZWOnTX0"
      }
    },
    {
      "cell_type": "markdown",
      "source": [
        "-> Python handles memory automatically, but there are still some challenges:\n",
        "\n",
        "\n",
        "I. Circular references:\n",
        "\n",
        "Objects referring to each other (A → B → A) may not get cleaned up by simple reference counting.\n",
        "\n",
        "II. Global Interpreter Lock (GIL):\n",
        "\n",
        "Limits true parallel execution, partly due to how memory management is done in CPython.\n",
        "\n",
        "III. Large data structures:\n",
        "\n",
        "If we keep references too long (like big lists, dicts), memory will not be freed.\n",
        "\n",
        "IV.  Garbage collector overhead:\n",
        "\n",
        "Sometimes GC can pause to clean up memory, slightly affecting performance.\n",
        "\n"
      ],
      "metadata": {
        "id": "TdIuYrO2nTVJ"
      }
    },
    {
      "cell_type": "markdown",
      "source": [
        "###24. How do you raise an exception manually in Python?"
      ],
      "metadata": {
        "id": "6QlbteumnTSD"
      }
    },
    {
      "cell_type": "markdown",
      "source": [
        "->In Python, we can raise an exception manually using the raise statement.\n",
        "This lets us trigger errors on purpose, for example if some condition is not met.\n",
        "\n",
        " Example\n",
        "\n",
        "a = - 8\n",
        "\n",
        "if a < 0:\n",
        "\n",
        "    raise ValueError(\"a cannot be negative!\")\n",
        "\n",
        "Here we are raising ValueError(...) manually, with a custom message.\n",
        "\n",
        "\n",
        "We can raise any built-in or custom exception\n",
        "\n",
        "raise TypeError(\"This is a type error\")\n",
        "raise RuntimeError(\"Something went wrong\").\n"
      ],
      "metadata": {
        "id": "OVDmAW7-nTPL"
      }
    },
    {
      "cell_type": "markdown",
      "source": [
        "###25. Why is it important to use multithreading in certain applications?"
      ],
      "metadata": {
        "id": "wn7jyod-nSo3"
      }
    },
    {
      "cell_type": "markdown",
      "source": [
        "> Multithreading is important in certain applications because it allows a program to do multiple tasks at the same time, making it more responsive and faster, especially for I/O-bound tasks.\n",
        "\n",
        "\n",
        "* Why do we use multithreading?\n",
        "\n",
        "It handles multiple operations at once, like downloading files while updating the UI.\n",
        "\n",
        "It improves performance for I/O-bound tasks (waiting on network, disk, user input).\n",
        "\n",
        "And keeps applications responsive, e.g. GUI apps don’t freeze while processing.\n"
      ],
      "metadata": {
        "id": "gciNbi2N-9yr"
      }
    },
    {
      "cell_type": "markdown",
      "source": [
        "#Practical Questions"
      ],
      "metadata": {
        "id": "EkwXKTYuoPh8"
      }
    },
    {
      "cell_type": "markdown",
      "source": [
        "###1.How can you open a file for writing in Python and write a string to it?"
      ],
      "metadata": {
        "id": "Y4ZaN9u0oPfM"
      }
    },
    {
      "cell_type": "code",
      "source": [
        "with open(\"output.txt\", \"w\") as file:\n",
        "    file.write(\"Hello, I am Abhi.\")\n",
        "\n",
        "with open(\"output.txt\", \"r\") as file:\n",
        "    print(file.read())"
      ],
      "metadata": {
        "colab": {
          "base_uri": "https://localhost:8080/"
        },
        "id": "1TwKCuh6XLcx",
        "outputId": "7a1d69c6-4f2a-45df-c7fb-e96c4479dbb1"
      },
      "execution_count": null,
      "outputs": [
        {
          "output_type": "stream",
          "name": "stdout",
          "text": [
            "Hello, I am Abhi.\n"
          ]
        }
      ]
    },
    {
      "cell_type": "markdown",
      "source": [
        "###2. Write a Python program to read the contents of a file and print each line."
      ],
      "metadata": {
        "id": "sFgphnZVyyV3"
      }
    },
    {
      "cell_type": "code",
      "source": [
        "with open('sample.txt', 'r') as file:\n",
        "    for line in file:\n",
        "        print(line.strip())"
      ],
      "metadata": {
        "colab": {
          "base_uri": "https://localhost:8080/"
        },
        "id": "LbD9o5maXMgN",
        "outputId": "a1ddaeef-e11e-47f3-c3ed-5d003ce9bff2"
      },
      "execution_count": null,
      "outputs": [
        {
          "output_type": "stream",
          "name": "stdout",
          "text": [
            "Python is wonderful.\n",
            "Python makes things simple.\n",
            "We love Python and Python loves us.\n"
          ]
        }
      ]
    },
    {
      "cell_type": "markdown",
      "source": [
        "###3. How would you handle a case where the file doesn't exist while trying to open it for reading?"
      ],
      "metadata": {
        "id": "M5dduk4szChR"
      }
    },
    {
      "cell_type": "code",
      "source": [
        "try:\n",
        "    with open(\"nonexistent.txt\", \"r\") as file:\n",
        "        print(file.read())\n",
        "except FileNotFoundError:\n",
        "    print(\"File not found. Please check the file name or path.\")"
      ],
      "metadata": {
        "id": "rPiDePW_zCNR",
        "colab": {
          "base_uri": "https://localhost:8080/"
        },
        "outputId": "ed4ca0ad-ba95-469e-e63e-8cfcf04c2ed3"
      },
      "execution_count": null,
      "outputs": [
        {
          "output_type": "stream",
          "name": "stdout",
          "text": [
            "File not found. Please check the file name or path.\n"
          ]
        }
      ]
    },
    {
      "cell_type": "markdown",
      "source": [
        "###4.Write a Python script that reads from one file and writes its content to another file?"
      ],
      "metadata": {
        "id": "48McwliEzByu"
      }
    },
    {
      "cell_type": "code",
      "source": [
        "with open('input.txt', 'w') as file:\n",
        "    file.write(\"This is line one.\\n\")\n",
        "    file.write(\"This is line two.\\n\")\n",
        "    file.write(\"This is line three.\\n\")\n",
        "\n",
        "print(\"input.txt created successfully.\")\n",
        "\n",
        "try:\n",
        "    with open('input.txt', 'r') as infile, open('output.txt', 'w') as outfile:\n",
        "        for line in infile:\n",
        "            outfile.write(line)\n",
        "    print(\"File copied successfully.\")\n",
        "except FileNotFoundError:\n",
        "    print(\"Error: The file 'input.txt' was not found.\")\n",
        "\n",
        "with open('output.txt', 'r') as file:\n",
        "    print(\"Contents of output.txt:\")\n",
        "    print(file.read())"
      ],
      "metadata": {
        "colab": {
          "base_uri": "https://localhost:8080/"
        },
        "id": "SNofv7bMZYiK",
        "outputId": "2be6b82b-000e-465e-bb49-d2fdd258eaac"
      },
      "execution_count": null,
      "outputs": [
        {
          "output_type": "stream",
          "name": "stdout",
          "text": [
            "input.txt created successfully.\n",
            "File copied successfully.\n",
            "Contents of output.txt:\n",
            "This is line one.\n",
            "This is line two.\n",
            "This is line three.\n",
            "\n"
          ]
        }
      ]
    },
    {
      "cell_type": "markdown",
      "source": [
        "###5.How would you catch and handle division by zero error in Python?"
      ],
      "metadata": {
        "id": "gCRwjrhvzBEq"
      }
    },
    {
      "cell_type": "code",
      "source": [
        "try:\n",
        "    result = 10 / 0\n",
        "except ZeroDivisionError:\n",
        "    print(\"Cannot divide by zero.\")"
      ],
      "metadata": {
        "id": "udQyq9GazAuu",
        "colab": {
          "base_uri": "https://localhost:8080/"
        },
        "outputId": "9548505f-ac32-4f83-e5df-1f11481bc1c1"
      },
      "execution_count": null,
      "outputs": [
        {
          "output_type": "stream",
          "name": "stdout",
          "text": [
            "Cannot divide by zero.\n"
          ]
        }
      ]
    },
    {
      "cell_type": "markdown",
      "source": [
        "###6. Write a Python program that logs an error message to a log file when a division by zero exception occurs."
      ],
      "metadata": {
        "id": "tj6cB1HhzAU9"
      }
    },
    {
      "cell_type": "code",
      "source": [
        "import logging\n",
        "\n",
        "logging.basicConfig(filename='errors.log', level=logging.ERROR)\n",
        "\n",
        "try:\n",
        "    result = 5 / 0\n",
        "except ZeroDivisionError as e:\n",
        "    logging.error(\"Division by zero error: %s\", e)\n",
        "    print(\"Error logged.\")"
      ],
      "metadata": {
        "colab": {
          "base_uri": "https://localhost:8080/"
        },
        "id": "1i7IHXo1aPi6",
        "outputId": "6e21ec7b-5b93-49b7-cac2-3397b84c6a6f"
      },
      "execution_count": null,
      "outputs": [
        {
          "output_type": "stream",
          "name": "stderr",
          "text": [
            "ERROR:root:Division by zero error: division by zero\n",
            "Division by zero error: division by zero\n"
          ]
        },
        {
          "output_type": "stream",
          "name": "stdout",
          "text": [
            "Error logged.\n"
          ]
        }
      ]
    },
    {
      "cell_type": "markdown",
      "source": [
        "###7.How do you log information at different levels (INFO, ERROR, WARNING) in Python using the logging module?"
      ],
      "metadata": {
        "id": "RwXlJm07y_jY"
      }
    },
    {
      "cell_type": "code",
      "source": [
        "import logging\n",
        "\n",
        "logging.basicConfig(level=logging.DEBUG)\n",
        "\n",
        "logging.info(\"This is an INFO message.\")\n",
        "logging.error(\"This is an ERROR message.\")\n",
        "logging.warning(\"This is a WARNING message.\")\n"
      ],
      "metadata": {
        "id": "4pbnYXL4y_Kv",
        "colab": {
          "base_uri": "https://localhost:8080/"
        },
        "outputId": "8c6dde34-8811-4d75-93fc-d56aeae3a666"
      },
      "execution_count": null,
      "outputs": [
        {
          "output_type": "stream",
          "name": "stderr",
          "text": [
            "INFO:root:This is an INFO message.\n",
            "This is an INFO message.\n",
            "ERROR:root:This is an ERROR message.\n",
            "This is an ERROR message.\n",
            "WARNING:root:This is a WARNING message.\n",
            "This is a WARNING message.\n"
          ]
        }
      ]
    },
    {
      "cell_type": "markdown",
      "source": [
        "###8.Write a program to handle a file opening error using exception handling."
      ],
      "metadata": {
        "id": "qk0XnM-my-uj"
      }
    },
    {
      "cell_type": "code",
      "source": [
        "try:\n",
        "    with open(\"nonexistent_file.txt\", \"r\") as file:\n",
        "        data = file.read()\n",
        "except FileNotFoundError:\n",
        "    print(\"Error: The file does not exist.\")"
      ],
      "metadata": {
        "id": "abLuCcCdy-I3",
        "colab": {
          "base_uri": "https://localhost:8080/"
        },
        "outputId": "6b9f72cf-8c11-4331-fd73-892456008e6c"
      },
      "execution_count": null,
      "outputs": [
        {
          "output_type": "stream",
          "name": "stdout",
          "text": [
            "Error: The file does not exist.\n"
          ]
        }
      ]
    },
    {
      "cell_type": "markdown",
      "source": [
        "###9.How can you read a file line by line and store its content in a list in Python?"
      ],
      "metadata": {
        "id": "uGFhO-B9oPcR"
      }
    },
    {
      "cell_type": "code",
      "source": [
        "with open('example.txt', 'w') as file:\n",
        "    file.write(\"Apple\\n\")\n",
        "    file.write(\"Banana\\n\")\n",
        "    file.write(\"Cherry\\n\")\n",
        "\n",
        "print(\"File 'example.txt' created.\")\n",
        "\n",
        "lines_list = []\n",
        "\n",
        "with open('example.txt', 'r') as file:\n",
        "    lines_list = [line.strip() for line in file]\n",
        "\n",
        "print(\"List of lines from the file:\")\n",
        "print(lines_list)"
      ],
      "metadata": {
        "colab": {
          "base_uri": "https://localhost:8080/"
        },
        "id": "Hg_tayUwbjlT",
        "outputId": "97cc8133-4a65-4fd4-eca9-78d7364fd7cc"
      },
      "execution_count": null,
      "outputs": [
        {
          "output_type": "stream",
          "name": "stdout",
          "text": [
            "File 'example.txt' created.\n",
            "List of lines from the file:\n",
            "['Apple', 'Banana', 'Cherry']\n"
          ]
        }
      ]
    },
    {
      "cell_type": "markdown",
      "source": [
        "###10. How can you append data to an existing file in Python?"
      ],
      "metadata": {
        "id": "uEC1ULrfoPZg"
      }
    },
    {
      "cell_type": "code",
      "source": [
        "# Create a file initially with some data\n",
        "with open('myfile.txt', 'w') as file:\n",
        "    file.write(\"Original line 1\\n\")\n",
        "    file.write(\"Original line 2\\n\")\n",
        "\n",
        "print(\"Initial file created.\")\n",
        "\n",
        "# Append new lines to the file\n",
        "with open('myfile.txt', 'a') as file:\n",
        "    file.write(\"Appended line 3\\n\")\n",
        "    file.write(\"Appended line 4\\n\")\n",
        "\n",
        "print(\"Data appended successfully.\")\n",
        "\n",
        "# Read the file to check contents\n",
        "with open('myfile.txt', 'r') as file:\n",
        "    print(\"Contents of myfile.txt:\")\n",
        "    print(file.read())"
      ],
      "metadata": {
        "colab": {
          "base_uri": "https://localhost:8080/"
        },
        "id": "wxXoTUxocKQt",
        "outputId": "e49e690a-72d4-46b1-8cf5-e9c1b957b1e4"
      },
      "execution_count": null,
      "outputs": [
        {
          "output_type": "stream",
          "name": "stdout",
          "text": [
            "Initial file created.\n",
            "Data appended successfully.\n",
            "Contents of myfile.txt:\n",
            "Original line 1\n",
            "Original line 2\n",
            "Appended line 3\n",
            "Appended line 4\n",
            "\n"
          ]
        }
      ]
    },
    {
      "cell_type": "markdown",
      "source": [
        "###11.Write a Python program that uses a try-except block to handle an error when attempting to access a dictionary key that doesn't exist."
      ],
      "metadata": {
        "id": "MYQ3v1z-oPUI"
      }
    },
    {
      "cell_type": "code",
      "source": [
        "my_dict = {\"a\": 1, \"b\": 2}\n",
        "\n",
        "try:\n",
        "    print(my_dict[\"c\"])\n",
        "except KeyError:\n",
        "    print(\"Key 'c' does not exist in the dictionary.\")"
      ],
      "metadata": {
        "colab": {
          "base_uri": "https://localhost:8080/"
        },
        "id": "aBbLDqjQBFCe",
        "outputId": "55a16033-34ca-4b6c-94dc-352dec542220"
      },
      "execution_count": null,
      "outputs": [
        {
          "output_type": "stream",
          "name": "stdout",
          "text": [
            "Key 'c' does not exist in the dictionary.\n"
          ]
        }
      ]
    },
    {
      "cell_type": "markdown",
      "source": [
        "###12. Write a program that demonstrates using multiple except blocks to handle different types of exceptions."
      ],
      "metadata": {
        "id": "4TZRDOtwoPP-"
      }
    },
    {
      "cell_type": "code",
      "source": [
        "try:\n",
        "    x = int(\"abc\")  #  ValueError\n",
        "    y = 10 / 0      # ZeroDivisionError (but won't reach here)\n",
        "except ValueError:\n",
        "    print(\"Caught a ValueError: could not convert string to int.\")\n",
        "except ZeroDivisionError:\n",
        "    print(\"Caught a ZeroDivisionError: division by zero.\")\n",
        "except Exception as e:\n",
        "    print(\"Some other error occurred:\", e)"
      ],
      "metadata": {
        "colab": {
          "base_uri": "https://localhost:8080/"
        },
        "id": "UvWpcIlRBZ-I",
        "outputId": "335dce6b-b0e6-4573-d8e9-dd0d48cb6dde"
      },
      "execution_count": null,
      "outputs": [
        {
          "output_type": "stream",
          "name": "stdout",
          "text": [
            "Caught a ValueError: could not convert string to int.\n"
          ]
        }
      ]
    },
    {
      "cell_type": "markdown",
      "source": [
        "###13.How would you check if a file exists before attempting to read it in Python?"
      ],
      "metadata": {
        "id": "0r5QwZDjoPNA"
      }
    },
    {
      "cell_type": "code",
      "source": [
        "import os\n",
        "\n",
        "# Create the file\n",
        "with open(\"example.txt\", \"w\") as file:\n",
        "    file.write(\"This is an example file.\\nWelcome to Python file handling!\")\n",
        "\n",
        "# Check if file exists and read it\n",
        "if os.path.exists(\"example.txt\"):\n",
        "    with open(\"example.txt\", \"r\") as file:\n",
        "        print(file.read())\n",
        "else:\n",
        "    print(\"File does not exist.\")"
      ],
      "metadata": {
        "colab": {
          "base_uri": "https://localhost:8080/"
        },
        "id": "oNBTGJtcV-oE",
        "outputId": "19322b05-7bfd-4035-90ab-51c474b967eb"
      },
      "execution_count": null,
      "outputs": [
        {
          "output_type": "stream",
          "name": "stdout",
          "text": [
            "This is an example file.\n",
            "Welcome to Python file handling!\n"
          ]
        }
      ]
    },
    {
      "cell_type": "markdown",
      "source": [
        "###14. Write a program that uses the logging module to log both informational and error messages."
      ],
      "metadata": {
        "id": "VHiRx4ChoPKD"
      }
    },
    {
      "cell_type": "code",
      "source": [
        "import logging\n",
        "\n",
        "logging.basicConfig(filename='app.log', level=logging.INFO)\n",
        "logging.info(\"This is an info message.\")\n",
        "logging.error(\"This is an error message.\")"
      ],
      "metadata": {
        "colab": {
          "base_uri": "https://localhost:8080/"
        },
        "id": "WhI-WUfVIYOB",
        "outputId": "0293f876-d97e-48ed-a138-772b34c6e6cb"
      },
      "execution_count": null,
      "outputs": [
        {
          "output_type": "stream",
          "name": "stderr",
          "text": [
            "ERROR:root:This is an error message.\n"
          ]
        }
      ]
    },
    {
      "cell_type": "markdown",
      "source": [
        "###15.Write a Python program that prints the content of a file and handles the case when the file is empty."
      ],
      "metadata": {
        "id": "KdoCSi6IoPG_"
      }
    },
    {
      "cell_type": "code",
      "source": [
        "try:\n",
        "    with open(\"example.txt\", \"r\") as file:\n",
        "        content = file.read()\n",
        "        if not content:\n",
        "            print(\"File is empty.\")\n",
        "        else:\n",
        "            print(content)\n",
        "except FileNotFoundError:\n",
        "    print(\"Error: The file does not exist.\")"
      ],
      "metadata": {
        "colab": {
          "base_uri": "https://localhost:8080/"
        },
        "id": "j6g5tVMGCd4k",
        "outputId": "5f61109c-1a03-459a-8e20-7200d14965e2"
      },
      "execution_count": null,
      "outputs": [
        {
          "output_type": "stream",
          "name": "stdout",
          "text": [
            "Error: The file does not exist.\n"
          ]
        }
      ]
    },
    {
      "cell_type": "markdown",
      "source": [
        "###16.Demonstrate how to use memory profiling to check the memory usage of a small program."
      ],
      "metadata": {
        "id": "bGgLZF7GoPDp"
      }
    },
    {
      "cell_type": "code",
      "source": [
        "import sys\n",
        "\n",
        "# Small program creating a list of numbers\n",
        "my_list = [i for i in range(1000)]\n",
        "\n",
        "# Check memory usage of the list\n",
        "print(\"Memory size of my_list:\", sys.getsizeof(my_list), \"bytes\")\n"
      ],
      "metadata": {
        "colab": {
          "base_uri": "https://localhost:8080/"
        },
        "id": "i4J_M9w2Ce-4",
        "outputId": "8ec3e627-0f38-40f1-9534-6b8eb499a304"
      },
      "execution_count": null,
      "outputs": [
        {
          "output_type": "stream",
          "name": "stdout",
          "text": [
            "Memory size of my_list: 8856 bytes\n"
          ]
        }
      ]
    },
    {
      "cell_type": "markdown",
      "source": [
        "###17. Write a Python program to create and write a list of numbers to a file, one number per line."
      ],
      "metadata": {
        "id": "iJrpEWEtoPAt"
      }
    },
    {
      "cell_type": "code",
      "source": [
        "numbers = [1, 2, 3, 4, 5, 6, 7]\n",
        "with open(\"numbers.txt\", \"w\") as file:\n",
        "    for num in numbers:\n",
        "        file.write(f\"{num}\\n\")\n",
        "\n",
        "print(\"Numbers written to 'numbers.txt'\")\n",
        "\n",
        "\n",
        "print(\"\\n Contents of 'numbers.txt':\")\n",
        "with open(\"numbers.txt\", \"r\") as file:\n",
        "    contents = file.read()\n",
        "    print(contents)\n",
        "\n",
        "from google.colab import files\n",
        "files.download(\"numbers.txt\")"
      ],
      "metadata": {
        "colab": {
          "base_uri": "https://localhost:8080/",
          "height": 208
        },
        "id": "KH8T4YaTONVU",
        "outputId": "1d43c835-b130-43b8-bf73-c2afd5716414"
      },
      "execution_count": null,
      "outputs": [
        {
          "output_type": "stream",
          "name": "stdout",
          "text": [
            "Numbers written to 'numbers.txt'\n",
            "\n",
            " Contents of 'numbers.txt':\n",
            "1\n",
            "2\n",
            "3\n",
            "4\n",
            "5\n",
            "6\n",
            "7\n",
            "\n"
          ]
        },
        {
          "output_type": "display_data",
          "data": {
            "text/plain": [
              "<IPython.core.display.Javascript object>"
            ],
            "application/javascript": [
              "\n",
              "    async function download(id, filename, size) {\n",
              "      if (!google.colab.kernel.accessAllowed) {\n",
              "        return;\n",
              "      }\n",
              "      const div = document.createElement('div');\n",
              "      const label = document.createElement('label');\n",
              "      label.textContent = `Downloading \"${filename}\": `;\n",
              "      div.appendChild(label);\n",
              "      const progress = document.createElement('progress');\n",
              "      progress.max = size;\n",
              "      div.appendChild(progress);\n",
              "      document.body.appendChild(div);\n",
              "\n",
              "      const buffers = [];\n",
              "      let downloaded = 0;\n",
              "\n",
              "      const channel = await google.colab.kernel.comms.open(id);\n",
              "      // Send a message to notify the kernel that we're ready.\n",
              "      channel.send({})\n",
              "\n",
              "      for await (const message of channel.messages) {\n",
              "        // Send a message to notify the kernel that we're ready.\n",
              "        channel.send({})\n",
              "        if (message.buffers) {\n",
              "          for (const buffer of message.buffers) {\n",
              "            buffers.push(buffer);\n",
              "            downloaded += buffer.byteLength;\n",
              "            progress.value = downloaded;\n",
              "          }\n",
              "        }\n",
              "      }\n",
              "      const blob = new Blob(buffers, {type: 'application/binary'});\n",
              "      const a = document.createElement('a');\n",
              "      a.href = window.URL.createObjectURL(blob);\n",
              "      a.download = filename;\n",
              "      div.appendChild(a);\n",
              "      a.click();\n",
              "      div.remove();\n",
              "    }\n",
              "  "
            ]
          },
          "metadata": {}
        },
        {
          "output_type": "display_data",
          "data": {
            "text/plain": [
              "<IPython.core.display.Javascript object>"
            ],
            "application/javascript": [
              "download(\"download_883e8e63-6fe5-403b-bd3c-eb26c74fa5fc\", \"numbers.txt\", 14)"
            ]
          },
          "metadata": {}
        }
      ]
    },
    {
      "cell_type": "markdown",
      "source": [
        "###18. How would you implement a basic logging setup that logs to a file with rotation after 1MB?"
      ],
      "metadata": {
        "id": "HG4SOXeZoO94"
      }
    },
    {
      "cell_type": "code",
      "source": [
        "import logging\n",
        "from logging.handlers import RotatingFileHandler\n",
        "\n",
        "# Set up a rotating log handler\n",
        "logger = logging.getLogger(\"MyLogger\")\n",
        "logger.setLevel(logging.INFO)\n",
        "\n",
        "handler = RotatingFileHandler(\"my_log.log\", maxBytes=1_000_000, backupCount=3)\n",
        "formatter = logging.Formatter('%(asctime)s - %(levelname)s - %(message)s')\n",
        "handler.setFormatter(formatter)\n",
        "\n",
        "logger.addHandler(handler)\n",
        "\n",
        "# Log some messages\n",
        "for i in range(100):\n",
        "    logger.info(f\"This is log message number {i}\")"
      ],
      "metadata": {
        "colab": {
          "base_uri": "https://localhost:8080/"
        },
        "id": "hkrdTYLgRBUz",
        "outputId": "f2f7a809-ea59-460f-9a5b-72166f82ad50"
      },
      "execution_count": null,
      "outputs": [
        {
          "output_type": "stream",
          "name": "stderr",
          "text": [
            "INFO:MyLogger:This is log message number 0\n",
            "This is log message number 0\n",
            "INFO:MyLogger:This is log message number 1\n",
            "This is log message number 1\n",
            "INFO:MyLogger:This is log message number 2\n",
            "This is log message number 2\n",
            "INFO:MyLogger:This is log message number 3\n",
            "This is log message number 3\n",
            "INFO:MyLogger:This is log message number 4\n",
            "This is log message number 4\n",
            "INFO:MyLogger:This is log message number 5\n",
            "This is log message number 5\n",
            "INFO:MyLogger:This is log message number 6\n",
            "This is log message number 6\n",
            "INFO:MyLogger:This is log message number 7\n",
            "This is log message number 7\n",
            "INFO:MyLogger:This is log message number 8\n",
            "This is log message number 8\n",
            "INFO:MyLogger:This is log message number 9\n",
            "This is log message number 9\n",
            "INFO:MyLogger:This is log message number 10\n",
            "This is log message number 10\n",
            "INFO:MyLogger:This is log message number 11\n",
            "This is log message number 11\n",
            "INFO:MyLogger:This is log message number 12\n",
            "This is log message number 12\n",
            "INFO:MyLogger:This is log message number 13\n",
            "This is log message number 13\n",
            "INFO:MyLogger:This is log message number 14\n",
            "This is log message number 14\n",
            "INFO:MyLogger:This is log message number 15\n",
            "This is log message number 15\n",
            "INFO:MyLogger:This is log message number 16\n",
            "This is log message number 16\n",
            "INFO:MyLogger:This is log message number 17\n",
            "This is log message number 17\n",
            "INFO:MyLogger:This is log message number 18\n",
            "This is log message number 18\n",
            "INFO:MyLogger:This is log message number 19\n",
            "This is log message number 19\n",
            "INFO:MyLogger:This is log message number 20\n",
            "This is log message number 20\n",
            "INFO:MyLogger:This is log message number 21\n",
            "This is log message number 21\n",
            "INFO:MyLogger:This is log message number 22\n",
            "This is log message number 22\n",
            "INFO:MyLogger:This is log message number 23\n",
            "This is log message number 23\n",
            "INFO:MyLogger:This is log message number 24\n",
            "This is log message number 24\n",
            "INFO:MyLogger:This is log message number 25\n",
            "This is log message number 25\n",
            "INFO:MyLogger:This is log message number 26\n",
            "This is log message number 26\n",
            "INFO:MyLogger:This is log message number 27\n",
            "This is log message number 27\n",
            "INFO:MyLogger:This is log message number 28\n",
            "This is log message number 28\n",
            "INFO:MyLogger:This is log message number 29\n",
            "This is log message number 29\n",
            "INFO:MyLogger:This is log message number 30\n",
            "This is log message number 30\n",
            "INFO:MyLogger:This is log message number 31\n",
            "This is log message number 31\n",
            "INFO:MyLogger:This is log message number 32\n",
            "This is log message number 32\n",
            "INFO:MyLogger:This is log message number 33\n",
            "This is log message number 33\n",
            "INFO:MyLogger:This is log message number 34\n",
            "This is log message number 34\n",
            "INFO:MyLogger:This is log message number 35\n",
            "This is log message number 35\n",
            "INFO:MyLogger:This is log message number 36\n",
            "This is log message number 36\n",
            "INFO:MyLogger:This is log message number 37\n",
            "This is log message number 37\n",
            "INFO:MyLogger:This is log message number 38\n",
            "This is log message number 38\n",
            "INFO:MyLogger:This is log message number 39\n",
            "This is log message number 39\n",
            "INFO:MyLogger:This is log message number 40\n",
            "This is log message number 40\n",
            "INFO:MyLogger:This is log message number 41\n",
            "This is log message number 41\n",
            "INFO:MyLogger:This is log message number 42\n",
            "This is log message number 42\n",
            "INFO:MyLogger:This is log message number 43\n",
            "This is log message number 43\n",
            "INFO:MyLogger:This is log message number 44\n",
            "This is log message number 44\n",
            "INFO:MyLogger:This is log message number 45\n",
            "This is log message number 45\n",
            "INFO:MyLogger:This is log message number 46\n",
            "This is log message number 46\n",
            "INFO:MyLogger:This is log message number 47\n",
            "This is log message number 47\n",
            "INFO:MyLogger:This is log message number 48\n",
            "This is log message number 48\n",
            "INFO:MyLogger:This is log message number 49\n",
            "This is log message number 49\n",
            "INFO:MyLogger:This is log message number 50\n",
            "This is log message number 50\n",
            "INFO:MyLogger:This is log message number 51\n",
            "This is log message number 51\n",
            "INFO:MyLogger:This is log message number 52\n",
            "This is log message number 52\n",
            "INFO:MyLogger:This is log message number 53\n",
            "This is log message number 53\n",
            "INFO:MyLogger:This is log message number 54\n",
            "This is log message number 54\n",
            "INFO:MyLogger:This is log message number 55\n",
            "This is log message number 55\n",
            "INFO:MyLogger:This is log message number 56\n",
            "This is log message number 56\n",
            "INFO:MyLogger:This is log message number 57\n",
            "This is log message number 57\n",
            "INFO:MyLogger:This is log message number 58\n",
            "This is log message number 58\n",
            "INFO:MyLogger:This is log message number 59\n",
            "This is log message number 59\n",
            "INFO:MyLogger:This is log message number 60\n",
            "This is log message number 60\n",
            "INFO:MyLogger:This is log message number 61\n",
            "This is log message number 61\n",
            "INFO:MyLogger:This is log message number 62\n",
            "This is log message number 62\n",
            "INFO:MyLogger:This is log message number 63\n",
            "This is log message number 63\n",
            "INFO:MyLogger:This is log message number 64\n",
            "This is log message number 64\n",
            "INFO:MyLogger:This is log message number 65\n",
            "This is log message number 65\n",
            "INFO:MyLogger:This is log message number 66\n",
            "This is log message number 66\n",
            "INFO:MyLogger:This is log message number 67\n",
            "This is log message number 67\n",
            "INFO:MyLogger:This is log message number 68\n",
            "This is log message number 68\n",
            "INFO:MyLogger:This is log message number 69\n",
            "This is log message number 69\n",
            "INFO:MyLogger:This is log message number 70\n",
            "This is log message number 70\n",
            "INFO:MyLogger:This is log message number 71\n",
            "This is log message number 71\n",
            "INFO:MyLogger:This is log message number 72\n",
            "This is log message number 72\n",
            "INFO:MyLogger:This is log message number 73\n",
            "This is log message number 73\n",
            "INFO:MyLogger:This is log message number 74\n",
            "This is log message number 74\n",
            "INFO:MyLogger:This is log message number 75\n",
            "This is log message number 75\n",
            "INFO:MyLogger:This is log message number 76\n",
            "This is log message number 76\n",
            "INFO:MyLogger:This is log message number 77\n",
            "This is log message number 77\n",
            "INFO:MyLogger:This is log message number 78\n",
            "This is log message number 78\n",
            "INFO:MyLogger:This is log message number 79\n",
            "This is log message number 79\n",
            "INFO:MyLogger:This is log message number 80\n",
            "This is log message number 80\n",
            "INFO:MyLogger:This is log message number 81\n",
            "This is log message number 81\n",
            "INFO:MyLogger:This is log message number 82\n",
            "This is log message number 82\n",
            "INFO:MyLogger:This is log message number 83\n",
            "This is log message number 83\n",
            "INFO:MyLogger:This is log message number 84\n",
            "This is log message number 84\n",
            "INFO:MyLogger:This is log message number 85\n",
            "This is log message number 85\n",
            "INFO:MyLogger:This is log message number 86\n",
            "This is log message number 86\n",
            "INFO:MyLogger:This is log message number 87\n",
            "This is log message number 87\n",
            "INFO:MyLogger:This is log message number 88\n",
            "This is log message number 88\n",
            "INFO:MyLogger:This is log message number 89\n",
            "This is log message number 89\n",
            "INFO:MyLogger:This is log message number 90\n",
            "This is log message number 90\n",
            "INFO:MyLogger:This is log message number 91\n",
            "This is log message number 91\n",
            "INFO:MyLogger:This is log message number 92\n",
            "This is log message number 92\n",
            "INFO:MyLogger:This is log message number 93\n",
            "This is log message number 93\n",
            "INFO:MyLogger:This is log message number 94\n",
            "This is log message number 94\n",
            "INFO:MyLogger:This is log message number 95\n",
            "This is log message number 95\n",
            "INFO:MyLogger:This is log message number 96\n",
            "This is log message number 96\n",
            "INFO:MyLogger:This is log message number 97\n",
            "This is log message number 97\n",
            "INFO:MyLogger:This is log message number 98\n",
            "This is log message number 98\n",
            "INFO:MyLogger:This is log message number 99\n",
            "This is log message number 99\n"
          ]
        }
      ]
    },
    {
      "cell_type": "markdown",
      "source": [
        "###19.Write a program that handles both IndexError and KeyError using a try-except block."
      ],
      "metadata": {
        "id": "Gf8Lpr-FoO6y"
      }
    },
    {
      "cell_type": "code",
      "source": [
        "my_list = [1, 2, 3]\n",
        "my_dict = {\"a\": 10}\n",
        "\n",
        "try:\n",
        "    print(my_list[5])     # IndexError\n",
        "    print(my_dict[\"b\"])    # KeyError\n",
        "except IndexError:\n",
        "    print(\"Caught an IndexError.\")\n",
        "except KeyError:\n",
        "    print(\"Caught a KeyError.\")"
      ],
      "metadata": {
        "colab": {
          "base_uri": "https://localhost:8080/"
        },
        "id": "MShdnQbPDGaY",
        "outputId": "235fc287-0e7e-481a-b824-de99e77526a1"
      },
      "execution_count": null,
      "outputs": [
        {
          "output_type": "stream",
          "name": "stdout",
          "text": [
            "Caught an IndexError.\n"
          ]
        }
      ]
    },
    {
      "cell_type": "markdown",
      "source": [
        "###20.How would you open a file and read its contents using a context manager in Python?"
      ],
      "metadata": {
        "id": "485RBcCKoO4A"
      }
    },
    {
      "cell_type": "code",
      "source": [
        "try:\n",
        "    with open(\"example.txt\", \"r\") as file:\n",
        "        content = file.read()\n",
        "        print(content)\n",
        "except FileNotFoundError:\n",
        "    print(\"Error: The file does not exist.\")"
      ],
      "metadata": {
        "colab": {
          "base_uri": "https://localhost:8080/"
        },
        "id": "EjOKz-VKDHxa",
        "outputId": "8d8f17fb-3652-49d5-cc5e-2aca2e608bbc"
      },
      "execution_count": null,
      "outputs": [
        {
          "output_type": "stream",
          "name": "stdout",
          "text": [
            "Error: The file does not exist.\n"
          ]
        }
      ]
    },
    {
      "cell_type": "markdown",
      "source": [
        "###21.Write a Python program that reads a file and prints the number of occurrences of a specific word."
      ],
      "metadata": {
        "id": "QaAV4yOU75yt"
      }
    },
    {
      "cell_type": "code",
      "source": [
        " # This will create a sample file with some text in it\n",
        "\n",
        "with open(\"sample.txt\", \"w\") as file:\n",
        "    file.write(\"\"\"Python is wonderful.\n",
        "Python makes things simple.\n",
        "We love Python and Python loves us.\n",
        "\"\"\")\n",
        "\n",
        "word_to_search = \"python\"\n",
        "count = 0\n",
        "\n",
        "with open(\"sample.txt\", \"r\") as file:\n",
        "    for line in file:\n",
        "        count += line.lower().count(word_to_search.lower())\n",
        "\n",
        "print(f\"The word '{word_to_search}' occurred {count} times.\")"
      ],
      "metadata": {
        "colab": {
          "base_uri": "https://localhost:8080/"
        },
        "id": "7epxpkGqT5h_",
        "outputId": "f1c9a670-9b9c-4ca1-fe3b-e6d6a3bbe230"
      },
      "execution_count": null,
      "outputs": [
        {
          "output_type": "stream",
          "name": "stdout",
          "text": [
            "The word 'python' occurred 4 times.\n"
          ]
        }
      ]
    },
    {
      "cell_type": "markdown",
      "source": [
        "###22. How can you check if a file is empty before attempting to read its contents?"
      ],
      "metadata": {
        "id": "3xQSGrRX76jK"
      }
    },
    {
      "cell_type": "code",
      "source": [
        "import os\n",
        "\n",
        "file_path = \"example.txt\"\n",
        "\n",
        "if os.path.exists(file_path) and os.path.getsize(file_path) > 0:\n",
        "    with open(file_path, \"r\") as file:\n",
        "        print(file.read())\n",
        "else:\n",
        "    print(\"File is empty or does not exist.\")"
      ],
      "metadata": {
        "colab": {
          "base_uri": "https://localhost:8080/"
        },
        "id": "Mz8ZR9yjDLwm",
        "outputId": "c8a89b25-e7f8-4e35-af56-5eb9d2cf5127"
      },
      "execution_count": null,
      "outputs": [
        {
          "output_type": "stream",
          "name": "stdout",
          "text": [
            "File is empty or does not exist.\n"
          ]
        }
      ]
    },
    {
      "cell_type": "markdown",
      "source": [
        "###23.Write a Python program that writes to a log file when an error occurs during file handling."
      ],
      "metadata": {
        "id": "1qSjk6PW78f7"
      }
    },
    {
      "cell_type": "code",
      "source": [
        "import logging\n",
        "\n",
        "logging.basicConfig(filename=\"file_errors.log\", level=logging.ERROR)\n",
        "\n",
        "try:\n",
        "    with open(\"nonexistent_file.txt\", \"r\") as file:\n",
        "        data = file.read()\n",
        "except FileNotFoundError as e:\n",
        "    logging.error(\"Error opening file: %s\", e)\n",
        "    print(\"An error occurred. Check the log file.\")"
      ],
      "metadata": {
        "colab": {
          "base_uri": "https://localhost:8080/"
        },
        "id": "6VzjHfzPDSb9",
        "outputId": "c6d0f782-bd11-4513-caca-69b2519fcab6"
      },
      "execution_count": null,
      "outputs": [
        {
          "output_type": "stream",
          "name": "stderr",
          "text": [
            "ERROR:root:Error opening file: [Errno 2] No such file or directory: 'nonexistent_file.txt'\n"
          ]
        },
        {
          "output_type": "stream",
          "name": "stdout",
          "text": [
            "An error occurred. Check the log file.\n"
          ]
        }
      ]
    }
  ]
}